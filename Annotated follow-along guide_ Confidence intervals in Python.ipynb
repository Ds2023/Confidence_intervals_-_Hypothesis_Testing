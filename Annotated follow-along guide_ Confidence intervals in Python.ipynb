{
 "cells": [
  {
   "cell_type": "markdown",
   "metadata": {
    "id": "nRg9Inyb7URy"
   },
   "source": [
    "# Confidence intervals\n",
    "\n",
    "Throughout the following exercises, you will learn to use Python to construct a confidence interval for a point estimate. Before starting on this programming exercise, we strongly recommend watching the video lecture and completing the IVQ for the associated topics.\n",
    "\n"
   ]
  },
  {
   "cell_type": "markdown",
   "metadata": {
    "id": "9OgrxeO_TF8p"
   },
   "source": [
    "All the information you need for solving this assignment is in this notebook, and all the code you will be implementing will take place within this notebook. "
   ]
  },
  {
   "cell_type": "markdown",
   "metadata": {
    "id": "CIlN6n9bTFkr"
   },
   "source": [
    "As we move forward, you can find instructions on how to install required libraries as they arise in this notebook. Before we begin with the exercises and analyzing the data, we need to import all libraries and extensions required for this programming exercise. Throughout the course, we will be using numpy, pandas, and scipy stats for operations."
   ]
  },
  {
   "cell_type": "code",
   "execution_count": 1,
   "metadata": {
    "id": "tRLN11Dl7oNM"
   },
   "outputs": [],
   "source": [
    "import numpy as np\n",
    "import pandas as pd\n",
    "from scipy import stats"
   ]
  },
  {
   "cell_type": "code",
   "execution_count": 2,
   "metadata": {
    "id": "LFDXVth27sPa"
   },
   "outputs": [],
   "source": [
    "education_districtwise = pd.read_csv(\"education_districtwise.csv\")\n",
    "education_districtwise = education_districtwise.dropna()"
   ]
  },
  {
   "cell_type": "markdown",
   "metadata": {
    "id": "6RHDSjd-Tt8f"
   },
   "source": [
    "We’ll continue with our previous scenario, in which you’re a data professional working for the Department of Education of a large nation. Earlier, we imagined that the Department of Education asked you to collect the data on district literacy rates. You were only able to survey 50 randomly chosen districts, instead of all 634 districts included in your original dataset. You used Python to simulate taking a random sample of 50 districts, and make a point estimate of the population mean, or literacy rate for *all* districts. "
   ]
  },
  {
   "cell_type": "markdown",
   "metadata": {
    "id": "Z-Cw7P10ZkKs"
   },
   "source": [
    "Now imagine that the department asks you to construct a 95% confidence interval for your estimate of the mean district literacy rate. You can use Python to construct the confidence interval. \n"
   ]
  },
  {
   "cell_type": "markdown",
   "metadata": {
    "id": "fu9rz0hkOAEn"
   },
   "source": [
    "You can also use the same sample data that you worked with earlier. Write the code to have Python simulate the same random sample of district literacy rate data. First, name your variable `sampled_data`. Then, enter the arguments of the `sample()` function. \n",
    "\n",
    "\n",
    "*   `n`: Your sample size is `50`. \n",
    "*   `replace`: Choose `True` because you are sampling with replacement.\n",
    "*   `random_state`: Choose the same random number to generate the same results–previously, you used `31,208`. \n",
    "\n",
    "\n",
    "\n",
    "\n",
    "\n",
    "\n",
    " \n"
   ]
  },
  {
   "cell_type": "code",
   "execution_count": 3,
   "metadata": {},
   "outputs": [
    {
     "data": {
      "text/plain": [
       "(634, 7)"
      ]
     },
     "execution_count": 3,
     "metadata": {},
     "output_type": "execute_result"
    }
   ],
   "source": [
    "education_districtwise.shape"
   ]
  },
  {
   "cell_type": "code",
   "execution_count": 5,
   "metadata": {
    "id": "lkyQKjDhN2pu"
   },
   "outputs": [
    {
     "data": {
      "text/plain": [
       "(50, 7)"
      ]
     },
     "execution_count": 5,
     "metadata": {},
     "output_type": "execute_result"
    }
   ],
   "source": [
    "sampled_data = education_districtwise.sample(n=50, replace=True, random_state=31208)\n",
    "sampled_data.shape"
   ]
  },
  {
   "cell_type": "code",
   "execution_count": 6,
   "metadata": {},
   "outputs": [],
   "source": [
    "samples = [education_districtwise.sample(n=50, replace=True, random_state=31208) for _ in range(5)]"
   ]
  },
  {
   "cell_type": "code",
   "execution_count": 12,
   "metadata": {},
   "outputs": [
    {
     "name": "stdout",
     "output_type": "stream",
     "text": [
      "Number of samples : 5\n"
     ]
    },
    {
     "data": {
      "text/plain": [
       "((50, 7), (50, 7))"
      ]
     },
     "execution_count": 12,
     "metadata": {},
     "output_type": "execute_result"
    }
   ],
   "source": [
    "print(f'Number of samples : {len(samples)}')\n",
    "samples[0].shape,samples[1].shape"
   ]
  },
  {
   "cell_type": "markdown",
   "metadata": {
    "id": "fcEKHAs2OR5K"
   },
   "source": [
    "The output shows 50 districts selected randomly from your dataset. Each has a different literacy rate. "
   ]
  },
  {
   "cell_type": "markdown",
   "metadata": {
    "id": "6PzHorGq701S"
   },
   "source": [
    "## Construct a 95% confidence interval \n",
    "\n",
    "Now, construct a 95% confidence interval of the mean district literacy rate based on your sample data. Recall the four steps for constructing a confidence interval:\n",
    "\n",
    "1.   Identify a sample statistic\n",
    "2.   Choose a confidence level\n",
    "3.   Find the margin of error \n",
    "4.   Calculate the interval"
   ]
  },
  {
   "cell_type": "markdown",
   "metadata": {
    "id": "ZJLLkvxpCJGi"
   },
   "source": [
    "### `scipy.stats.norm.interval()`\n",
    "\n",
    "Earlier, you worked through these steps one by one to construct a confidence interval. With Python, you can construct a confidence interval with just a single line of code–and get your results faster! \n",
    "\n",
    "If you’re working with a large sample size, say larger than 30, you can construct a confidence interval for the mean using `scipy.stats.norm.interval()`. This function includes the following arguments: \n",
    "\n",
    "*   `alpha`: The confidence level\n",
    "*   `loc`: The sample mean\n",
    "*   `scale`: The sample standard error\n",
    "\n",
    "**Reference**: https://docs.scipy.org/doc/scipy/reference/generated/scipy.stats.norm.html.\n",
    "\n",
    "Let’s explore each argument in more detail. "
   ]
  },
  {
   "cell_type": "markdown",
   "metadata": {
    "id": "a_acE_ve-3SA"
   },
   "source": [
    "\n",
    "\n",
    "#### `alpha`: The confidence level\n",
    "\n",
    "The Department of Education requests a confidence level of 95%, which is the accepted standard for government funded research. "
   ]
  },
  {
   "cell_type": "markdown",
   "metadata": {
    "id": "mwVqV6EO_fFO"
   },
   "source": [
    "#### `loc`: The sample mean\n",
    "\n",
    "This is the mean literacy rate of your sample of 50 districts. Name a new variable `sample_mean`. Then, compute the mean district literacy rate for your sample data. "
   ]
  },
  {
   "cell_type": "code",
   "execution_count": 14,
   "metadata": {},
   "outputs": [
    {
     "data": {
      "text/plain": [
       "Index(['DISTNAME', 'STATNAME', 'BLOCKS', 'VILLAGES', 'CLUSTERS', 'TOTPOPULAT',\n",
       "       'OVERALL_LI'],\n",
       "      dtype='object')"
      ]
     },
     "execution_count": 14,
     "metadata": {},
     "output_type": "execute_result"
    }
   ],
   "source": [
    "sampled_data.columns"
   ]
  },
  {
   "cell_type": "code",
   "execution_count": 16,
   "metadata": {
    "id": "F6T99hTP_Ude"
   },
   "outputs": [
    {
     "data": {
      "text/plain": [
       "74.22359999999999"
      ]
     },
     "execution_count": 16,
     "metadata": {},
     "output_type": "execute_result"
    }
   ],
   "source": [
    "sample_mean = sampled_data['OVERALL_LI'].mean()\n",
    "sample_mean"
   ]
  },
  {
   "cell_type": "markdown",
   "metadata": {
    "id": "83Vv5W5__ruv"
   },
   "source": [
    "#### `scale`: The sample standard error\n",
    "\n",
    "Recall that **standard error** measures the variability of your sample data. You may remember that the formula for the sample standard error is the sample standard deviation divided by the square root of the sample size.\n",
    "\n",
    "**Note**: In practice, we typically don't know the true standard error, so we replace it with the estimated standard error."
   ]
  },
  {
   "cell_type": "markdown",
   "metadata": {
    "id": "AWF-PDhg7hBN"
   },
   "source": [
    "You can write code to express the formula and have Python do the calculation for you: \n",
    "\n",
    "1. Name a new variable `estimated_standard_error`. \n",
    "2. Take the standard deviation of your sample data, and divide by the square root of your sample. \n",
    "3. In parentheses, write the name of your data frame followed by the shape function and zero in brackets. Recall that the shape function returns the number of rows and columns in a data frame. `shape[0]` returns only the number of rows, which is the same number as your sample size.  "
   ]
  },
  {
   "cell_type": "code",
   "execution_count": 18,
   "metadata": {},
   "outputs": [
    {
     "data": {
      "text/plain": [
       "(50, 50)"
      ]
     },
     "execution_count": 18,
     "metadata": {},
     "output_type": "execute_result"
    }
   ],
   "source": [
    "len(sampled_data),sampled_data.shape[0]"
   ]
  },
  {
   "cell_type": "code",
   "execution_count": 19,
   "metadata": {
    "id": "9JFS2K3K7sGl"
   },
   "outputs": [
    {
     "data": {
      "text/plain": [
       "1.4292043386558317"
      ]
     },
     "execution_count": 19,
     "metadata": {},
     "output_type": "execute_result"
    }
   ],
   "source": [
    "estimated_standard_error = sampled_data['OVERALL_LI'].std() / np.sqrt(sampled_data.shape[0])\n",
    "estimated_standard_error"
   ]
  },
  {
   "cell_type": "markdown",
   "metadata": {
    "id": "5i2NSb4dY1vQ"
   },
   "source": [
    "Now you’re ready to put all this together to construct your confidence interval for the mean using `scipy.stats.norm.interval()`. First, write out the function and set the arguments:\n",
    "\n",
    "*   `alpha`: Enter `0.95` because you want to use a 95% confidence level\n",
    "*   `loc`: Enter the variable `sample_mean`\n",
    "*   `scale`: Enter the variable `estimated_standard_error`\n"
   ]
  },
  {
   "cell_type": "code",
   "execution_count": 20,
   "metadata": {
    "colab": {
     "base_uri": "https://localhost:8080/"
    },
    "id": "41H-BfjkBlvP",
    "outputId": "ee5e7d75-7217-4da1-afa4-00d7c326367d"
   },
   "outputs": [
    {
     "data": {
      "text/plain": [
       "(71.42241096968617, 77.02478903031381)"
      ]
     },
     "execution_count": 20,
     "metadata": {},
     "output_type": "execute_result"
    }
   ],
   "source": [
    "stats.norm.interval(alpha=0.95, loc=sample_mean, scale=estimated_standard_error)"
   ]
  },
  {
   "cell_type": "markdown",
   "metadata": {
    "id": "HTSQ8e_6DCRF"
   },
   "source": [
    "You have a 95% confidence interval for the mean district literacy rate that stretches from about 71.4% to 77.0%. \n",
    "\n",
    "95% CI: (71.42, 77.02)"
   ]
  },
  {
   "cell_type": "markdown",
   "metadata": {
    "id": "uDMi1yGq_Rmb"
   },
   "source": [
    "The Department of Education will use your estimate of the mean district literacy rate to help make decisions about distributing funds to different states.  "
   ]
  },
  {
   "cell_type": "markdown",
   "metadata": {
    "id": "dqnDAxYnGMjh"
   },
   "source": [
    "## Construct a 99% confidence interval \n",
    "\n",
    "Now imagine that a senior director in the department wants to be even *more* confident about your results. The director wants to make sure you have a reliable estimate, and suggests that you recalculate your interval with a 99% confidence level.\n",
    "\n",
    "To compute a 99% confidence interval based on the same sample data, just change `alpha` to `0.99`. \n",
    "\n"
   ]
  },
  {
   "cell_type": "code",
   "execution_count": 21,
   "metadata": {
    "colab": {
     "base_uri": "https://localhost:8080/"
    },
    "id": "__oLZkULTEL0",
    "outputId": "da0da653-9c89-40fb-f540-15fbe22a8dc3"
   },
   "outputs": [
    {
     "data": {
      "text/plain": [
       "(70.54221358373107, 77.90498641626891)"
      ]
     },
     "execution_count": 21,
     "metadata": {},
     "output_type": "execute_result"
    }
   ],
   "source": [
    "stats.norm.interval(alpha=0.99, loc=sample_mean, scale=estimated_standard_error)"
   ]
  },
  {
   "cell_type": "markdown",
   "metadata": {
    "id": "An8oC5lxAe3l"
   },
   "source": [
    "You have a 99% confidence interval for the mean district literacy rate that stretches from about 70.5% to 77.9%.\n",
    "\n",
    "99% CI: (70.54, 77.90)"
   ]
  },
  {
   "cell_type": "markdown",
   "metadata": {
    "id": "0Acxk517VExR"
   },
   "source": [
    "### Relationship between confidence level and confidence interval\n",
    "\n",
    "You may notice that as the confidence *level* gets higher, the confidence *interval* gets wider. \n",
    "\n",
    "* With a confidence level of 95%, the interval covers 5.6 percentage points (71.4% - 77.0%)\n",
    "* With a confidence level of 99%, the interval covers 7.4 percentage points (70.5% - 77.9%)\n",
    "\n",
    "This is because a wider confidence interval is more likely to include the actual population parameter."
   ]
  },
  {
   "cell_type": "markdown",
   "metadata": {
    "id": "PPtvmlTkCGLf"
   },
   "source": [
    "Your results will help the Department of Education decide how to distribute government resources to improve literacy. "
   ]
  },
  {
   "cell_type": "markdown",
   "metadata": {
    "id": "lOA5DfiLT3By"
   },
   "source": [
    "If you have successfully completed the material above, congratulations! You now understand how to use Python to construct a confidence interval for a point estimate. Going forward, you can start using Python to construct confidence intervals for your own data."
   ]
  }
 ],
 "metadata": {
  "colab": {
   "provenance": [
    {
     "file_id": "1RauiVfIppXz1er4rcSsco0XGUdXN8yNR",
     "timestamp": 1662733812813
    },
    {
     "file_id": "1YfGEgJ_UMYBl6rVB8fhpLXk021pYoXPX",
     "timestamp": 1658846871283
    }
   ]
  },
  "kernelspec": {
   "display_name": "Python 3",
   "language": "python",
   "name": "python3"
  },
  "language_info": {
   "codemirror_mode": {
    "name": "ipython",
    "version": 3
   },
   "file_extension": ".py",
   "mimetype": "text/x-python",
   "name": "python",
   "nbconvert_exporter": "python",
   "pygments_lexer": "ipython3",
   "version": "3.7.6"
  }
 },
 "nbformat": 4,
 "nbformat_minor": 1
}
